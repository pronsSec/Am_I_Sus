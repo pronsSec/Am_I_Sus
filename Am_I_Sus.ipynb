{
  "nbformat": 4,
  "nbformat_minor": 0,
  "metadata": {
    "colab": {
      "name": "Am_I_Sus_Final.ipynb",
      "provenance": [],
      "private_outputs": true,
      "collapsed_sections": [],
      "authorship_tag": "ABX9TyMwTN9Fv1gWAKudhZPI8Nwh",
      "include_colab_link": true
    },
    "kernelspec": {
      "name": "python3",
      "display_name": "Python 3"
    },
    "language_info": {
      "name": "python"
    },
    "accelerator": "GPU"
  },
  "cells": [
    {
      "cell_type": "markdown",
      "metadata": {
        "id": "view-in-github",
        "colab_type": "text"
      },
      "source": [
        "<a href=\"https://colab.research.google.com/github/pronsSec/Am_I_Sus/blob/main/Am_I_Sus.ipynb\" target=\"_parent\"><img src=\"https://colab.research.google.com/assets/colab-badge.svg\" alt=\"Open In Colab\"/></a>"
      ]
    },
    {
      "cell_type": "code",
      "source": [
        "                                                                                       \n",
        "       db                                 88       ad88888ba                           \n",
        "      d88b                                88      d8\"     \"8b                          \n",
        "     d8'`8b                               88      Y8,                                  \n",
        "    d8'  `8b      88,dPYba,,adPYba,       88      `Y8aaaaa,    88       88  ,adPPYba,  \n",
        "   d8YaaaaY8b     88P'   \"88\"    \"8a      88        `\"\"\"\"\"8b,  88       88  I8[    \"\"  \n",
        "  d8\"\"\"\"\"\"\"\"8b    88      88      88      88              `8b  88       88   `\"Y8ba,   \n",
        " d8'        `8b   88      88      88      88      Y8a     a8P  \"8a,   ,a88  aa    ]8I  \n",
        "d8'          `8b  88      88      88      88       \"Y88888P\"    `\"YbbdP'Y8  `\"YbbdP\"'  \n",
        "\n",
        "\n",
        "by been and prons_sec\n",
        "\n",
        "An offline and secure way to pull twitter account data and run sentiment analysis on the entire account using AI\n",
        "\n",
        "Sign up for your own bearer token @ developer.twitter.com\n",
        "\n",
        "Hit play from top to bottom\n",
        "                                                                                       \n",
        "                                                                                       "
      ],
      "metadata": {
        "id": "j1omy7jY2NIP"
      },
      "execution_count": null,
      "outputs": []
    },
    {
      "cell_type": "markdown",
      "source": [
        "---\n",
        "\n",
        "To get your twitter account ID:\n",
        "\n",
        "https://tweeterid.com/\n",
        "\n",
        "\n",
        "---"
      ],
      "metadata": {
        "id": "ATVV6Za60_N4"
      }
    },
    {
      "cell_type": "markdown",
      "source": [
        "---\n",
        "---\n",
        "---"
      ],
      "metadata": {
        "id": "icUtEr3t0FsF"
      }
    },
    {
      "cell_type": "code",
      "execution_count": null,
      "metadata": {
        "id": "d-7veVXByGmi"
      },
      "outputs": [],
      "source": [
        "#@title #Input Your Twitter Bearer Token , Twitter ID , and Press Play { display-mode: \"form\" }\n",
        "\n",
        "\n",
        "#@markdown -----------------------\n",
        "#@markdown -----------------------\n",
        "#@markdown -----------------------\n",
        "#@markdown -----------------------\n",
        "\n",
        "import sys\n",
        "import os\n",
        "import re\n",
        "import requests\n",
        "\n",
        "from textblob import TextBlob\n",
        "\n",
        "import numpy as np\n",
        "import pandas as pd\n",
        "from pandas.io.json import json_normalize\n",
        "from datetime import datetime, timedelta\n",
        "from IPython.display import clear_output\n",
        "from tqdm import tqdm\n",
        "\n",
        "import matplotlib.pyplot as plt\n",
        "import seaborn as sns\n",
        "% matplotlib inline\n",
        "sns.set_theme(style=\"darkgrid\")\n",
        "\n",
        "\n",
        "from os import path\n",
        "from PIL import Image\n",
        "from wordcloud import WordCloud, STOPWORDS\n",
        "\n",
        "!pip install --upgrade vaderSentiment\n",
        "from vaderSentiment.vaderSentiment import SentimentIntensityAnalyzer\n",
        "analyzer = SentimentIntensityAnalyzer()\n",
        "clear_output()\n",
        "\n",
        "#@markdown ### Enter your Bearer Token:\n",
        "bearerToken = '' #@param {type:\"string\"}\n",
        "#@markdown -------------------\n",
        "#@markdown ### Enter Account ID Number:\n",
        "searchQuery = '' #@param {type:\"string\"}\n",
        "#@markdown ---------\n",
        "url = \"https://api.twitter.com/2/users/{}/tweets?tweet.fields=created_at&expansions=author_id&user.fields=created_at&max_results=100\".format(searchQuery) \n",
        "\n",
        "\n",
        "\n",
        "headers = {\n",
        "  'Authorization': 'Bearer {}'.format(bearerToken)\n",
        "}\n",
        "\n",
        "\n",
        "response = requests.request(\"GET\", url, headers=headers).json()\n",
        "\n",
        "df = pd.DataFrame(response['data'])\n",
        "#add local download\n",
        "df.to_csv('response_python.csv')\n",
        "\n",
        "#@markdown ###For Sentiment Results:\n",
        "\n",
        "#@markdown Negative: <0\n",
        "\n",
        "#@markdown Positive: >0\n",
        "nerlst = []\n",
        "for index, row in tqdm(df.iterrows(), total=df.shape[0]):\n",
        "  sentence = row['text'].replace(\"#\", \"\")\n",
        "  vs = analyzer.polarity_scores(sentence)\n",
        "  nerlst.append([ row['created_at'], row['text'], vs['compound']])\n",
        "\n",
        "df_ner = pd.DataFrame(nerlst, columns=['Time', 'Text', 'Sentiment'])\n",
        "clear_output()\n",
        "df_ner.head(100)\n"
      ]
    },
    {
      "cell_type": "markdown",
      "source": [
        "---\n",
        "---\n",
        "---"
      ],
      "metadata": {
        "id": "kwGW5l8d0H-u"
      }
    },
    {
      "cell_type": "markdown",
      "source": [
        "---\n",
        "---\n",
        "---"
      ],
      "metadata": {
        "id": "Fsi5WEBI0K4r"
      }
    },
    {
      "cell_type": "markdown",
      "source": [
        "---"
      ],
      "metadata": {
        "id": "OBBDKskK0RM7"
      }
    },
    {
      "cell_type": "code",
      "source": [
        "#@title Use Ten Coins To Generate Your Data Visualization Powered by AI { display-mode: \"form\" }\n",
        "#@markdown Jk fuck you just hit play ily...\n",
        "ax = sns.barplot(x=\"Time\", y=\"Sentiment\", data=df_ner)\n",
        "sns.set(rc = {'figure.figsize':(15,8)})\n",
        "ax.set(xticklabels=[], title='Your Last 100 Tweets', ylabel='Negative                 Positive')\n",
        "plt.show()"
      ],
      "metadata": {
        "id": "gzqHjel-MQFD"
      },
      "execution_count": null,
      "outputs": []
    },
    {
      "cell_type": "markdown",
      "source": [
        "---"
      ],
      "metadata": {
        "id": "2EcvORdx0Sfd"
      }
    },
    {
      "cell_type": "code",
      "source": [
        "#@title With FanData PLUS you can have all of these proprietary machine learning visuals for just $7.99/month { display-mode: \"form\" }\n",
        "#@markdown ---------------\n",
        "#@markdown Or you can hit play\n",
        "\n",
        "fig = plt.figure(figsize=(12, 6))\n",
        "\n",
        "sns.displot(df_ner['Sentiment'], kde_kws={\"shade\": True})"
      ],
      "metadata": {
        "id": "w-KWm3_eMQLl"
      },
      "execution_count": null,
      "outputs": []
    },
    {
      "cell_type": "markdown",
      "source": [
        "---"
      ],
      "metadata": {
        "id": "qzqOoqppCLKq"
      }
    },
    {
      "cell_type": "code",
      "source": [
        "#@title Just Hit Play Again Seriously { display-mode: \"form\" }\n",
        "\n",
        "fig = plt.figure(figsize=(12, 6))\n",
        "sns.distplot(df_ner['Sentiment'], hist=True, kde_kws={\"shade\": True})"
      ],
      "metadata": {
        "id": "63I4hZMz1ZLz"
      },
      "execution_count": null,
      "outputs": []
    },
    {
      "cell_type": "markdown",
      "source": [
        "---\n",
        "---\n",
        "---\n",
        "---\n",
        "---\n",
        "---\n",
        "---\n",
        "---\n",
        "---\n",
        "---"
      ],
      "metadata": {
        "id": "mQG7qdaB0TsI"
      }
    },
    {
      "cell_type": "markdown",
      "source": [
        "Shoutout to vaderSentiment \n",
        "\n",
        "Hutto, C.J. & Gilbert, E.E. (2014). VADER: A Parsimonious Rule-based Model for Sentiment Analysis of Social Media Text. Eighth International Conference on Weblogs and Social Media (ICWSM-14). Ann Arbor, MI, June 2014. \n",
        "\n",
        "https://github.com/cjhutto/vaderSentiment "
      ],
      "metadata": {
        "id": "k9_qGUTuBqr0"
      }
    }
  ]
}